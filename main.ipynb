{
 "cells": [
  {
   "cell_type": "markdown",
   "metadata": {},
   "source": [
    "### Import Library"
   ]
  },
  {
   "cell_type": "code",
   "execution_count": 13,
   "metadata": {},
   "outputs": [],
   "source": [
    "# Import library yang diperlukan\n",
    "import os\n",
    "import random\n",
    "from sklearn.model_selection import train_test_split\n",
    "import cv2\n",
    "import numpy as np\n",
    "\n",
    "\n",
    "#ignore warning\n",
    "import warnings\n",
    "warnings.filterwarnings('ignore')"
   ]
  },
  {
   "cell_type": "markdown",
   "metadata": {},
   "source": [
    "### Direktori"
   ]
  },
  {
   "cell_type": "code",
   "execution_count": 14,
   "metadata": {},
   "outputs": [],
   "source": [
    "K1 = 'D:/UTY/Semester 7/Pengembangan Aplikasi AI/Pengenal-Citra-Nomor-Kendaraan/Dataset/K1/'\n",
    "K2 = 'D:/UTY/Semester 7/Pengembangan Aplikasi AI/Pengenal-Citra-Nomor-Kendaraan/Dataset/K2/'\n",
    "K3 = 'D:/UTY/Semester 7/Pengembangan Aplikasi AI/Pengenal-Citra-Nomor-Kendaraan/Dataset/K3/'\n",
    "K4 = 'D:/UTY/Semester 7/Pengembangan Aplikasi AI/Pengenal-Citra-Nomor-Kendaraan/Dataset/K4/'"
   ]
  },
  {
   "cell_type": "markdown",
   "metadata": {},
   "source": [
    "### Split Data"
   ]
  },
  {
   "cell_type": "code",
   "execution_count": 15,
   "metadata": {},
   "outputs": [],
   "source": [
    "# Tentukan jalur ke direktori dataset\n",
    "dataset_dir = K1\n",
    "\n",
    "# Buat daftar semua berkas citra dalam direktori dataset\n",
    "berkas_citra = [os.path.join(dataset_dir, berkas) for berkas in os.listdir(dataset_dir) if berkas.endswith('.JPG')]"
   ]
  },
  {
   "cell_type": "code",
   "execution_count": 16,
   "metadata": {},
   "outputs": [],
   "source": [
    "# Tetapkan nilai benih acak untuk konsistensi\n",
    "random.seed(42)\n",
    "\n",
    "# Tentukan rasio data untuk pelatihan dan pengujian\n",
    "rasio_pelatihan = 0.8  # 80% untuk pelatihan, 20% untuk pengujian\n",
    "\n",
    "# Bagi dataset menjadi set pelatihan dan pengujian\n",
    "berkas_pelatihan, berkas_pengujian = train_test_split(berkas_citra, train_size=rasio_pelatihan, test_size=1-rasio_pelatihan)"
   ]
  },
  {
   "cell_type": "code",
   "execution_count": 17,
   "metadata": {},
   "outputs": [
    {
     "name": "stdout",
     "output_type": "stream",
     "text": [
      "Total citra: 237\n",
      "Citra pelatihan: 189\n",
      "Citra pengujian: 48\n"
     ]
    }
   ],
   "source": [
    "# Buat direktori untuk dataset pelatihan dan pengujian jika belum ada\n",
    "direktori_pelatihan = os.path.join(dataset_dir, 'pelatihan')\n",
    "direktori_pengujian = os.path.join(dataset_dir, 'pengujian')\n",
    "os.makedirs(direktori_pelatihan, exist_ok=True)\n",
    "os.makedirs(direktori_pengujian, exist_ok=True)\n",
    "\n",
    "# Pindahkan berkas ke direktori yang sesuai\n",
    "for berkas in berkas_pelatihan:\n",
    "    tujuan = os.path.join(direktori_pelatihan, os.path.basename(berkas))\n",
    "    os.rename(berkas, tujuan)\n",
    "\n",
    "for berkas in berkas_pengujian:\n",
    "    tujuan = os.path.join(direktori_pengujian, os.path.basename(berkas))\n",
    "    os.rename(berkas, tujuan)\n",
    "\n",
    "# Cetak jumlah citra dalam masing-masing dataset\n",
    "print(f\"Total citra: {len(berkas_citra)}\")\n",
    "print(f\"Citra pelatihan: {len(berkas_pelatihan)}\")\n",
    "print(f\"Citra pengujian: {len(berkas_pengujian)}\")"
   ]
  },
  {
   "cell_type": "markdown",
   "metadata": {},
   "source": [
    "### Preprocessing"
   ]
  },
  {
   "cell_type": "code",
   "execution_count": 23,
   "metadata": {},
   "outputs": [],
   "source": [
    "# Tentukan jalur ke direktori dataset yang telah dibagi menjadi pelatihan dan pengujian\n",
    "direktori_pelatihan = K1+'pengujian/'\n",
    "direktori_pengujian = K1+'pelatihan/'\n",
    "\n",
    "# Tentukan direktori penyimpanan citra yang telah diproses\n",
    "direktori_pelatihan_hasil = K1+'hasil/pengujian/'\n",
    "direktori_pengujian_hasil = K1+'hasil/pelatihan/'"
   ]
  },
  {
   "cell_type": "code",
   "execution_count": 24,
   "metadata": {},
   "outputs": [],
   "source": [
    "# Fungsi untuk melakukan preprocessing citra\n",
    "def preprocess_citra(berkas_citra):\n",
    "    # Baca citra dari berkas\n",
    "    citra = cv2.imread(berkas_citra)\n",
    "    \n",
    "    # Konversi citra ke skala abu-abu\n",
    "    citra = cv2.cvtColor(citra, cv2.COLOR_BGR2GRAY)\n",
    "    \n",
    "    # Konversi citra menjadi blur\n",
    "    citra = cv2.GaussianBlur(citra, (5, 5), 0)\n",
    "    \n",
    "    # Konversi citra menjadi B & W\n",
    "    citra = cv2.Canny(citra, 100, 200)\n",
    "    \n",
    "    # Mengubah ukuran citra menjadi lebih kecil\n",
    "    ukuran_citra = (50, 50)\n",
    "    citra = cv2.resize(citra, ukuran_citra)\n",
    "    \n",
    "    # Ubah tipe data menjadi float32\n",
    "    citra = citra.astype(np.float32) / 255.0  \n",
    "\n",
    "    \n",
    "    # Kembalikan citra yang telah diproses\n",
    "    return citra\n"
   ]
  },
  {
   "cell_type": "code",
   "execution_count": 25,
   "metadata": {},
   "outputs": [],
   "source": [
    "# Preprocess citra dalam direktori pelatihan\n",
    "for nama_berkas in os.listdir(direktori_pelatihan):\n",
    "    berkas_citra = os.path.join(direktori_pelatihan, nama_berkas)\n",
    "    citra_preprocessed = preprocess_citra(berkas_citra)\n",
    "    \n",
    "    # Simpan citra yang telah diproses ke direktori yang sama\n",
    "    nama_berkas_simpan = os.path.join(direktori_pelatihan_hasil, f'preprocessed_{nama_berkas}')\n",
    "    cv2.imwrite(nama_berkas_simpan, citra_preprocessed)"
   ]
  },
  {
   "cell_type": "code",
   "execution_count": 26,
   "metadata": {},
   "outputs": [],
   "source": [
    "\n",
    "# Preprocess citra dalam direktori pengujian\n",
    "for nama_berkas in os.listdir(direktori_pengujian):\n",
    "    berkas_citra = os.path.join(direktori_pengujian, nama_berkas)\n",
    "    citra_preprocessed = preprocess_citra(berkas_citra)\n",
    "    \n",
    "    # Simpan citra yang telah diproses ke direktori yang sama\n",
    "    nama_berkas_simpan = os.path.join(direktori_pengujian_hasil, f'preprocessed_{nama_berkas}')\n",
    "    cv2.imwrite(nama_berkas_simpan, citra_preprocessed)\n"
   ]
  },
  {
   "cell_type": "markdown",
   "metadata": {},
   "source": [
    "# Mode Deteksi Plat Nomor"
   ]
  },
  {
   "cell_type": "code",
   "execution_count": 27,
   "metadata": {},
   "outputs": [
    {
     "ename": "MemoryError",
     "evalue": "Unable to allocate 93.0 MiB for an array with shape (4032, 3024) and data type float64",
     "output_type": "error",
     "traceback": [
      "\u001b[1;31m---------------------------------------------------------------------------\u001b[0m",
      "\u001b[1;31mMemoryError\u001b[0m                               Traceback (most recent call last)",
      "\u001b[1;32md:\\UTY\\Semester 7\\Pengembangan Aplikasi AI\\Pengenal-Citra-Nomor-Kendaraan\\main.ipynb Cell 15\u001b[0m line \u001b[0;36m<module>\u001b[1;34m\u001b[0m\n\u001b[0;32m     <a href='vscode-notebook-cell:/d%3A/UTY/Semester%207/Pengembangan%20Aplikasi%20AI/Pengenal-Citra-Nomor-Kendaraan/main.ipynb#X20sZmlsZQ%3D%3D?line=29'>30</a>\u001b[0m \u001b[39m# Memuat dataset pelatihan dan pengujian\u001b[39;00m\n\u001b[0;32m     <a href='vscode-notebook-cell:/d%3A/UTY/Semester%207/Pengembangan%20Aplikasi%20AI/Pengenal-Citra-Nomor-Kendaraan/main.ipynb#X20sZmlsZQ%3D%3D?line=30'>31</a>\u001b[0m X_train, y_train \u001b[39m=\u001b[39m load_dataset(direktori_pelatihan_hasil)\n\u001b[1;32m---> <a href='vscode-notebook-cell:/d%3A/UTY/Semester%207/Pengembangan%20Aplikasi%20AI/Pengenal-Citra-Nomor-Kendaraan/main.ipynb#X20sZmlsZQ%3D%3D?line=31'>32</a>\u001b[0m X_test, y_test \u001b[39m=\u001b[39m load_dataset(direktori_pengujian_hasil)\n\u001b[0;32m     <a href='vscode-notebook-cell:/d%3A/UTY/Semester%207/Pengembangan%20Aplikasi%20AI/Pengenal-Citra-Nomor-Kendaraan/main.ipynb#X20sZmlsZQ%3D%3D?line=33'>34</a>\u001b[0m \u001b[39m# Membagi dataset pelatihan menjadi pelatihan dan validasi\u001b[39;00m\n\u001b[0;32m     <a href='vscode-notebook-cell:/d%3A/UTY/Semester%207/Pengembangan%20Aplikasi%20AI/Pengenal-Citra-Nomor-Kendaraan/main.ipynb#X20sZmlsZQ%3D%3D?line=34'>35</a>\u001b[0m X_train, X_val, y_train, y_val \u001b[39m=\u001b[39m train_test_split(X_train, y_train, test_size\u001b[39m=\u001b[39m\u001b[39m0.2\u001b[39m, random_state\u001b[39m=\u001b[39m\u001b[39m42\u001b[39m)\n",
      "\u001b[1;32md:\\UTY\\Semester 7\\Pengembangan Aplikasi AI\\Pengenal-Citra-Nomor-Kendaraan\\main.ipynb Cell 15\u001b[0m line \u001b[0;36mload_dataset\u001b[1;34m(direktori)\u001b[0m\n\u001b[0;32m     <a href='vscode-notebook-cell:/d%3A/UTY/Semester%207/Pengembangan%20Aplikasi%20AI/Pengenal-Citra-Nomor-Kendaraan/main.ipynb#X20sZmlsZQ%3D%3D?line=14'>15</a>\u001b[0m citra \u001b[39m=\u001b[39m cv2\u001b[39m.\u001b[39mimread(berkas_citra, cv2\u001b[39m.\u001b[39mIMREAD_GRAYSCALE)\n\u001b[0;32m     <a href='vscode-notebook-cell:/d%3A/UTY/Semester%207/Pengembangan%20Aplikasi%20AI/Pengenal-Citra-Nomor-Kendaraan/main.ipynb#X20sZmlsZQ%3D%3D?line=16'>17</a>\u001b[0m \u001b[39m# Normalisasi piksel ke rentang 0-1\u001b[39;00m\n\u001b[1;32m---> <a href='vscode-notebook-cell:/d%3A/UTY/Semester%207/Pengembangan%20Aplikasi%20AI/Pengenal-Citra-Nomor-Kendaraan/main.ipynb#X20sZmlsZQ%3D%3D?line=17'>18</a>\u001b[0m citra \u001b[39m=\u001b[39m citra \u001b[39m/\u001b[39;49m \u001b[39m255.0\u001b[39;49m\n\u001b[0;32m     <a href='vscode-notebook-cell:/d%3A/UTY/Semester%207/Pengembangan%20Aplikasi%20AI/Pengenal-Citra-Nomor-Kendaraan/main.ipynb#X20sZmlsZQ%3D%3D?line=19'>20</a>\u001b[0m images\u001b[39m.\u001b[39mappend(citra)\n\u001b[0;32m     <a href='vscode-notebook-cell:/d%3A/UTY/Semester%207/Pengembangan%20Aplikasi%20AI/Pengenal-Citra-Nomor-Kendaraan/main.ipynb#X20sZmlsZQ%3D%3D?line=21'>22</a>\u001b[0m \u001b[39m# Ambil label dari nama berkas (contoh: \"plat\" atau \"non_plat\")\u001b[39;00m\n",
      "\u001b[1;31mMemoryError\u001b[0m: Unable to allocate 93.0 MiB for an array with shape (4032, 3024) and data type float64"
     ]
    }
   ],
   "source": [
    "import os\n",
    "import cv2\n",
    "import numpy as np\n",
    "from sklearn.model_selection import train_test_split\n",
    "import tensorflow as tf\n",
    "from tensorflow.keras import layers, models\n",
    "\n",
    "# Fungsi untuk memuat dataset dan anotasinya\n",
    "def load_dataset(direktori):\n",
    "    images = []\n",
    "    labels = []\n",
    "    \n",
    "    for nama_berkas in os.listdir(direktori):\n",
    "        berkas_citra = os.path.join(direktori, nama_berkas)\n",
    "        citra = cv2.imread(berkas_citra, cv2.IMREAD_GRAYSCALE)\n",
    "        \n",
    "        # Normalisasi piksel ke rentang 0-1\n",
    "        citra = citra / 255.0\n",
    "        \n",
    "        images.append(citra)\n",
    "        \n",
    "        # Ambil label dari nama berkas (contoh: \"plat\" atau \"non_plat\")\n",
    "        if \"plat\" in nama_berkas:\n",
    "            labels.append(1)  # 1 untuk plat\n",
    "        else:\n",
    "            labels.append(0)  # 0 untuk non-plat\n",
    "    \n",
    "    return np.array(images), np.array(labels)\n",
    "\n",
    "# Memuat dataset pelatihan dan pengujian\n",
    "X_train, y_train = load_dataset(direktori_pelatihan_hasil)\n",
    "X_test, y_test = load_dataset(direktori_pengujian_hasil)\n",
    "\n",
    "# Membagi dataset pelatihan menjadi pelatihan dan validasi\n",
    "X_train, X_val, y_train, y_val = train_test_split(X_train, y_train, test_size=0.2, random_state=42)\n",
    "\n",
    "# Menambahkan dimensi channel untuk input CNN\n",
    "X_train = X_train.reshape(X_train.shape + (1,))\n",
    "X_val = X_val.reshape(X_val.shape + (1,))\n",
    "X_test = X_test.reshape(X_test.shape + (1,))\n",
    "\n",
    "# Membangun model CNN sederhana\n",
    "model = models.Sequential()\n",
    "model.add(layers.Conv2D(32, (3, 3), activation='relu', input_shape=(100, 100, 1)))\n",
    "model.add(layers.MaxPooling2D((2, 2)))\n",
    "model.add(layers.Conv2D(64, (3, 3), activation='relu'))\n",
    "model.add(layers.MaxPooling2D((2, 2)))\n",
    "model.add(layers.Flatten())\n",
    "model.add(layers.Dense(64, activation='relu'))\n",
    "model.add(layers.Dense(1, activation='sigmoid'))\n",
    "\n",
    "# Kompilasi model\n",
    "model.compile(optimizer='adam', loss='binary_crossentropy', metrics=['accuracy'])\n",
    "\n",
    "# Melatih model dengan data pelatihan dan validasi\n",
    "model.fit(X_train, y_train, epochs=10, batch_size=32, validation_data=(X_val, y_val))\n",
    "\n",
    "# Evaluasi model pada data pengujian\n",
    "hasil_evaluasi = model.evaluate(X_test, y_test)\n",
    "print(f'Akurasi pada data pengujian: {hasil_evaluasi[1]*100:.2f}%')\n"
   ]
  }
 ],
 "metadata": {
  "kernelspec": {
   "display_name": "Python 3",
   "language": "python",
   "name": "python3"
  },
  "language_info": {
   "codemirror_mode": {
    "name": "ipython",
    "version": 3
   },
   "file_extension": ".py",
   "mimetype": "text/x-python",
   "name": "python",
   "nbconvert_exporter": "python",
   "pygments_lexer": "ipython3",
   "version": "3.9.2"
  }
 },
 "nbformat": 4,
 "nbformat_minor": 2
}
