{
 "cells": [
  {
   "cell_type": "markdown",
   "metadata": {},
   "source": [
    "# Read Dataset"
   ]
  },
  {
   "cell_type": "code",
   "execution_count": 1,
   "metadata": {},
   "outputs": [],
   "source": [
    "# Import library yang diperlukan\n",
    "import os\n",
    "import random\n",
    "from sklearn.model_selection import train_test_split\n",
    "\n",
    "#ignore warning\n",
    "import warnings\n",
    "warnings.filterwarnings('ignore')"
   ]
  },
  {
   "cell_type": "code",
   "execution_count": 5,
   "metadata": {},
   "outputs": [
    {
     "ename": "ValueError",
     "evalue": "With n_samples=0, test_size=0.19999999999999996 and train_size=0.8, the resulting train set will be empty. Adjust any of the aforementioned parameters.",
     "output_type": "error",
     "traceback": [
      "\u001b[1;31m---------------------------------------------------------------------------\u001b[0m",
      "\u001b[1;31mValueError\u001b[0m                                Traceback (most recent call last)",
      "\u001b[1;32md:\\UTY\\Semester 7\\Pengembangan Aplikasi AI\\Pengenal-Citra-Nomor-Kendaraan\\main.ipynb Cell 3\u001b[0m line \u001b[0;36m<module>\u001b[1;34m\u001b[0m\n\u001b[0;32m     <a href='vscode-notebook-cell:/d%3A/UTY/Semester%207/Pengembangan%20Aplikasi%20AI/Pengenal-Citra-Nomor-Kendaraan/main.ipynb#W3sZmlsZQ%3D%3D?line=10'>11</a>\u001b[0m rasio_pelatihan \u001b[39m=\u001b[39m \u001b[39m0.8\u001b[39m  \u001b[39m# 80% untuk pelatihan, 20% untuk pengujian\u001b[39;00m\n\u001b[0;32m     <a href='vscode-notebook-cell:/d%3A/UTY/Semester%207/Pengembangan%20Aplikasi%20AI/Pengenal-Citra-Nomor-Kendaraan/main.ipynb#W3sZmlsZQ%3D%3D?line=12'>13</a>\u001b[0m \u001b[39m# Bagi dataset menjadi set pelatihan dan pengujian\u001b[39;00m\n\u001b[1;32m---> <a href='vscode-notebook-cell:/d%3A/UTY/Semester%207/Pengembangan%20Aplikasi%20AI/Pengenal-Citra-Nomor-Kendaraan/main.ipynb#W3sZmlsZQ%3D%3D?line=13'>14</a>\u001b[0m berkas_pelatihan, berkas_pengujian \u001b[39m=\u001b[39m train_test_split(berkas_citra, train_size\u001b[39m=\u001b[39;49mrasio_pelatihan, test_size\u001b[39m=\u001b[39;49m\u001b[39m1\u001b[39;49m\u001b[39m-\u001b[39;49mrasio_pelatihan)\n\u001b[0;32m     <a href='vscode-notebook-cell:/d%3A/UTY/Semester%207/Pengembangan%20Aplikasi%20AI/Pengenal-Citra-Nomor-Kendaraan/main.ipynb#W3sZmlsZQ%3D%3D?line=15'>16</a>\u001b[0m \u001b[39m# Buat direktori untuk dataset pelatihan dan pengujian jika belum ada\u001b[39;00m\n\u001b[0;32m     <a href='vscode-notebook-cell:/d%3A/UTY/Semester%207/Pengembangan%20Aplikasi%20AI/Pengenal-Citra-Nomor-Kendaraan/main.ipynb#W3sZmlsZQ%3D%3D?line=16'>17</a>\u001b[0m direktori_pelatihan \u001b[39m=\u001b[39m os\u001b[39m.\u001b[39mpath\u001b[39m.\u001b[39mjoin(dataset_dir, \u001b[39m'\u001b[39m\u001b[39mpelatihan\u001b[39m\u001b[39m'\u001b[39m)\n",
      "File \u001b[1;32md:\\Python\\install\\lib\\site-packages\\sklearn\\model_selection\\_split.py:2420\u001b[0m, in \u001b[0;36mtrain_test_split\u001b[1;34m(test_size, train_size, random_state, shuffle, stratify, *arrays)\u001b[0m\n\u001b[0;32m   2417\u001b[0m arrays \u001b[39m=\u001b[39m indexable(\u001b[39m*\u001b[39marrays)\n\u001b[0;32m   2419\u001b[0m n_samples \u001b[39m=\u001b[39m _num_samples(arrays[\u001b[39m0\u001b[39m])\n\u001b[1;32m-> 2420\u001b[0m n_train, n_test \u001b[39m=\u001b[39m _validate_shuffle_split(\n\u001b[0;32m   2421\u001b[0m     n_samples, test_size, train_size, default_test_size\u001b[39m=\u001b[39;49m\u001b[39m0.25\u001b[39;49m\n\u001b[0;32m   2422\u001b[0m )\n\u001b[0;32m   2424\u001b[0m \u001b[39mif\u001b[39;00m shuffle \u001b[39mis\u001b[39;00m \u001b[39mFalse\u001b[39;00m:\n\u001b[0;32m   2425\u001b[0m     \u001b[39mif\u001b[39;00m stratify \u001b[39mis\u001b[39;00m \u001b[39mnot\u001b[39;00m \u001b[39mNone\u001b[39;00m:\n",
      "File \u001b[1;32md:\\Python\\install\\lib\\site-packages\\sklearn\\model_selection\\_split.py:2098\u001b[0m, in \u001b[0;36m_validate_shuffle_split\u001b[1;34m(n_samples, test_size, train_size, default_test_size)\u001b[0m\n\u001b[0;32m   2095\u001b[0m n_train, n_test \u001b[39m=\u001b[39m \u001b[39mint\u001b[39m(n_train), \u001b[39mint\u001b[39m(n_test)\n\u001b[0;32m   2097\u001b[0m \u001b[39mif\u001b[39;00m n_train \u001b[39m==\u001b[39m \u001b[39m0\u001b[39m:\n\u001b[1;32m-> 2098\u001b[0m     \u001b[39mraise\u001b[39;00m \u001b[39mValueError\u001b[39;00m(\n\u001b[0;32m   2099\u001b[0m         \u001b[39m\"\u001b[39m\u001b[39mWith n_samples=\u001b[39m\u001b[39m{}\u001b[39;00m\u001b[39m, test_size=\u001b[39m\u001b[39m{}\u001b[39;00m\u001b[39m and train_size=\u001b[39m\u001b[39m{}\u001b[39;00m\u001b[39m, the \u001b[39m\u001b[39m\"\u001b[39m\n\u001b[0;32m   2100\u001b[0m         \u001b[39m\"\u001b[39m\u001b[39mresulting train set will be empty. Adjust any of the \u001b[39m\u001b[39m\"\u001b[39m\n\u001b[0;32m   2101\u001b[0m         \u001b[39m\"\u001b[39m\u001b[39maforementioned parameters.\u001b[39m\u001b[39m\"\u001b[39m\u001b[39m.\u001b[39mformat(n_samples, test_size, train_size)\n\u001b[0;32m   2102\u001b[0m     )\n\u001b[0;32m   2104\u001b[0m \u001b[39mreturn\u001b[39;00m n_train, n_test\n",
      "\u001b[1;31mValueError\u001b[0m: With n_samples=0, test_size=0.19999999999999996 and train_size=0.8, the resulting train set will be empty. Adjust any of the aforementioned parameters."
     ]
    }
   ],
   "source": [
    "# Tentukan jalur ke direktori dataset\n",
    "dataset_dir = 'D:/UTY/Semester 7/Pengembangan Aplikasi AI/Pengenal-Citra-Nomor-Kendaraan/Dataset/K1/'\n",
    "\n",
    "# Buat daftar semua berkas citra dalam direktori dataset\n",
    "berkas_citra = [os.path.join(dataset_dir, berkas) for berkas in os.listdir(dataset_dir) if berkas.endswith('.jpg')]\n",
    "\n",
    "# Tetapkan nilai benih acak untuk konsistensi\n",
    "random.seed(42)\n",
    "\n",
    "# Tentukan rasio data untuk pelatihan dan pengujian\n",
    "rasio_pelatihan = 0.8  # 80% untuk pelatihan, 20% untuk pengujian\n",
    "\n",
    "# Bagi dataset menjadi set pelatihan dan pengujian\n",
    "berkas_pelatihan, berkas_pengujian = train_test_split(berkas_citra, train_size=rasio_pelatihan, test_size=1-rasio_pelatihan)\n",
    "\n",
    "# Buat direktori untuk dataset pelatihan dan pengujian jika belum ada\n",
    "direktori_pelatihan = os.path.join(dataset_dir, 'pelatihan')\n",
    "direktori_pengujian = os.path.join(dataset_dir, 'pengujian')\n",
    "os.makedirs(direktori_pelatihan, exist_ok=True)\n",
    "os.makedirs(direktori_pengujian, exist_ok=True)\n",
    "\n",
    "# Pindahkan berkas ke direktori yang sesuai\n",
    "for berkas in berkas_pelatihan:\n",
    "    tujuan = os.path.join(direktori_pelatihan, os.path.basename(berkas))\n",
    "    os.rename(berkas, tujuan)\n",
    "\n",
    "for berkas in berkas_pengujian:\n",
    "    tujuan = os.path.join(direktori_pengujian, os.path.basename(berkas))\n",
    "    os.rename(berkas, tujuan)\n",
    "\n",
    "# Cetak jumlah citra dalam masing-masing dataset\n",
    "print(f\"Total citra: {len(berkas_citra)}\")\n",
    "print(f\"Citra pelatihan: {len(berkas_pelatihan)}\")\n",
    "print(f\"Citra pengujian: {len(berkas_pengujian)}\")"
   ]
  },
  {
   "cell_type": "code",
   "execution_count": null,
   "metadata": {},
   "outputs": [],
   "source": []
  }
 ],
 "metadata": {
  "kernelspec": {
   "display_name": "Python 3",
   "language": "python",
   "name": "python3"
  },
  "language_info": {
   "codemirror_mode": {
    "name": "ipython",
    "version": 3
   },
   "file_extension": ".py",
   "mimetype": "text/x-python",
   "name": "python",
   "nbconvert_exporter": "python",
   "pygments_lexer": "ipython3",
   "version": "3.9.2"
  }
 },
 "nbformat": 4,
 "nbformat_minor": 2
}
