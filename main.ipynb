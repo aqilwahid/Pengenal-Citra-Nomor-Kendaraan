{
 "cells": [
  {
   "cell_type": "markdown",
   "metadata": {},
   "source": [
    "### Import Library"
   ]
  },
  {
   "cell_type": "code",
   "execution_count": 3,
   "metadata": {},
   "outputs": [],
   "source": [
    "# Import library yang diperlukan\n",
    "import os\n",
    "import random\n",
    "from sklearn.model_selection import train_test_split\n",
    "import cv2\n",
    "import numpy as np\n",
    "\n",
    "\n",
    "#ignore warning\n",
    "import warnings\n",
    "warnings.filterwarnings('ignore')"
   ]
  },
  {
   "cell_type": "markdown",
   "metadata": {},
   "source": [
    "### Direktori"
   ]
  },
  {
   "cell_type": "code",
   "execution_count": null,
   "metadata": {},
   "outputs": [],
   "source": [
    "K1 = 'D:/UTY/Semester 7/Pengembangan Aplikasi AI/Pengenal-Citra-Nomor-Kendaraan/Dataset/K1/'\n",
    "K2 = 'D:/UTY/Semester 7/Pengembangan Aplikasi AI/Pengenal-Citra-Nomor-Kendaraan/Dataset/K2/'\n",
    "K3 = 'D:/UTY/Semester 7/Pengembangan Aplikasi AI/Pengenal-Citra-Nomor-Kendaraan/Dataset/K3/'\n",
    "K4 = 'D:/UTY/Semester 7/Pengembangan Aplikasi AI/Pengenal-Citra-Nomor-Kendaraan/Dataset/K4/'"
   ]
  },
  {
   "cell_type": "markdown",
   "metadata": {},
   "source": [
    "### Split Data"
   ]
  },
  {
   "cell_type": "code",
   "execution_count": 5,
   "metadata": {},
   "outputs": [],
   "source": [
    "# Tentukan jalur ke direktori dataset\n",
    "dataset_dir = K1\n",
    "\n",
    "# Buat daftar semua berkas citra dalam direktori dataset\n",
    "berkas_citra = [os.path.join(dataset_dir, berkas) for berkas in os.listdir(dataset_dir) if berkas.endswith('.JPG')]"
   ]
  },
  {
   "cell_type": "code",
   "execution_count": 6,
   "metadata": {},
   "outputs": [],
   "source": [
    "# Tetapkan nilai benih acak untuk konsistensi\n",
    "random.seed(42)\n",
    "\n",
    "# Tentukan rasio data untuk pelatihan dan pengujian\n",
    "rasio_pelatihan = 0.8  # 80% untuk pelatihan, 20% untuk pengujian\n",
    "\n",
    "# Bagi dataset menjadi set pelatihan dan pengujian\n",
    "berkas_pelatihan, berkas_pengujian = train_test_split(berkas_citra, train_size=rasio_pelatihan, test_size=1-rasio_pelatihan)"
   ]
  },
  {
   "cell_type": "code",
   "execution_count": 7,
   "metadata": {},
   "outputs": [
    {
     "name": "stdout",
     "output_type": "stream",
     "text": [
      "Total citra: 237\n",
      "Citra pelatihan: 189\n",
      "Citra pengujian: 48\n"
     ]
    }
   ],
   "source": [
    "# Buat direktori untuk dataset pelatihan dan pengujian jika belum ada\n",
    "direktori_pelatihan = os.path.join(dataset_dir, 'pelatihan')\n",
    "direktori_pengujian = os.path.join(dataset_dir, 'pengujian')\n",
    "os.makedirs(direktori_pelatihan, exist_ok=True)\n",
    "os.makedirs(direktori_pengujian, exist_ok=True)\n",
    "\n",
    "# Pindahkan berkas ke direktori yang sesuai\n",
    "for berkas in berkas_pelatihan:\n",
    "    tujuan = os.path.join(direktori_pelatihan, os.path.basename(berkas))\n",
    "    os.rename(berkas, tujuan)\n",
    "\n",
    "for berkas in berkas_pengujian:\n",
    "    tujuan = os.path.join(direktori_pengujian, os.path.basename(berkas))\n",
    "    os.rename(berkas, tujuan)\n",
    "\n",
    "# Cetak jumlah citra dalam masing-masing dataset\n",
    "print(f\"Total citra: {len(berkas_citra)}\")\n",
    "print(f\"Citra pelatihan: {len(berkas_pelatihan)}\")\n",
    "print(f\"Citra pengujian: {len(berkas_pengujian)}\")"
   ]
  },
  {
   "cell_type": "markdown",
   "metadata": {},
   "source": [
    "### Preprocessing"
   ]
  },
  {
   "cell_type": "code",
   "execution_count": 8,
   "metadata": {},
   "outputs": [],
   "source": [
    "# Tentukan jalur ke direktori dataset yang telah dibagi menjadi pelatihan dan pengujian\n",
    "direktori_pelatihan = K1+'pengujian/'\n",
    "direktori_pengujian = K1+'pelatihan/'\n",
    "\n",
    "# Tentukan direktori penyimpanan citra yang telah diproses\n",
    "direktori_pelatihan_hasil = K1+'hasil/pengujian/'\n",
    "direktori_pengujian_hasil = K1+'hasil/pelatihan/'"
   ]
  },
  {
   "cell_type": "code",
   "execution_count": 9,
   "metadata": {},
   "outputs": [],
   "source": [
    "# Fungsi untuk melakukan preprocessing citra\n",
    "def preprocess_citra(berkas_citra):\n",
    "    # Baca citra dari berkas\n",
    "    citra = cv2.imread(berkas_citra)\n",
    "    \n",
    "    # Konversi citra ke skala abu-abu\n",
    "    citra = cv2.cvtColor(citra, cv2.COLOR_BGR2GRAY)\n",
    "    \n",
    "    # Konversi citra menjadi blur\n",
    "    citra = cv2.GaussianBlur(citra, (5, 5), 0)\n",
    "    \n",
    "    # Konversi citra menjadi B & W\n",
    "    citra = cv2.Canny(citra, 100, 200)\n",
    "    \n",
    "    # Kembalikan citra yang telah diproses\n",
    "    return citra\n"
   ]
  },
  {
   "cell_type": "code",
   "execution_count": 10,
   "metadata": {},
   "outputs": [],
   "source": [
    "# Preprocess citra dalam direktori pelatihan\n",
    "for nama_berkas in os.listdir(direktori_pelatihan):\n",
    "    berkas_citra = os.path.join(direktori_pelatihan, nama_berkas)\n",
    "    citra_preprocessed = preprocess_citra(berkas_citra)\n",
    "    \n",
    "    # Simpan citra yang telah diproses ke direktori yang sama\n",
    "    nama_berkas_simpan = os.path.join(direktori_pelatihan_hasil, f'preprocessed_{nama_berkas}')\n",
    "    cv2.imwrite(nama_berkas_simpan, citra_preprocessed)"
   ]
  },
  {
   "cell_type": "code",
   "execution_count": 11,
   "metadata": {},
   "outputs": [],
   "source": [
    "\n",
    "# Preprocess citra dalam direktori pengujian\n",
    "for nama_berkas in os.listdir(direktori_pengujian):\n",
    "    berkas_citra = os.path.join(direktori_pengujian, nama_berkas)\n",
    "    citra_preprocessed = preprocess_citra(berkas_citra)\n",
    "    \n",
    "    # Simpan citra yang telah diproses ke direktori yang sama\n",
    "    nama_berkas_simpan = os.path.join(direktori_pengujian_hasil, f'preprocessed_{nama_berkas}')\n",
    "    cv2.imwrite(nama_berkas_simpan, citra_preprocessed)\n"
   ]
  },
  {
   "cell_type": "markdown",
   "metadata": {},
   "source": [
    "# Mode Deteksi Plat Nomor"
   ]
  }
 ],
 "metadata": {
  "kernelspec": {
   "display_name": "Python 3",
   "language": "python",
   "name": "python3"
  },
  "language_info": {
   "codemirror_mode": {
    "name": "ipython",
    "version": 3
   },
   "file_extension": ".py",
   "mimetype": "text/x-python",
   "name": "python",
   "nbconvert_exporter": "python",
   "pygments_lexer": "ipython3",
   "version": "3.9.2"
  }
 },
 "nbformat": 4,
 "nbformat_minor": 2
}
