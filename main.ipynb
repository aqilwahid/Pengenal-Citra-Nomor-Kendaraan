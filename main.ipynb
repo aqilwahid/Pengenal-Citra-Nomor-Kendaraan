{
 "cells": [
  {
   "cell_type": "markdown",
   "metadata": {},
   "source": [
    "### Import Library"
   ]
  },
  {
   "cell_type": "code",
   "execution_count": 14,
   "metadata": {},
   "outputs": [],
   "source": [
    "# Import library yang diperlukan\n",
    "import os\n",
    "import random\n",
    "from sklearn.model_selection import train_test_split\n",
    "import cv2\n",
    "import numpy as np\n",
    "\n",
    "\n",
    "#ignore warning\n",
    "import warnings\n",
    "warnings.filterwarnings('ignore')"
   ]
  },
  {
   "cell_type": "markdown",
   "metadata": {},
   "source": [
    "### Split Data"
   ]
  },
  {
   "cell_type": "code",
   "execution_count": 15,
   "metadata": {},
   "outputs": [],
   "source": [
    "# Tentukan jalur ke direktori dataset\n",
    "dataset_dir = 'D:/UTY/Semester 7/Pengembangan Aplikasi AI/Pengenal-Citra-Nomor-Kendaraan/Dataset/K1/'\n",
    "\n",
    "# Buat daftar semua berkas citra dalam direktori dataset\n",
    "berkas_citra = [os.path.join(dataset_dir, berkas) for berkas in os.listdir(dataset_dir) if berkas.endswith('.JPG')]"
   ]
  },
  {
   "cell_type": "code",
   "execution_count": 16,
   "metadata": {},
   "outputs": [],
   "source": [
    "# Tetapkan nilai benih acak untuk konsistensi\n",
    "random.seed(42)\n",
    "\n",
    "# Tentukan rasio data untuk pelatihan dan pengujian\n",
    "rasio_pelatihan = 0.8  # 80% untuk pelatihan, 20% untuk pengujian\n",
    "\n",
    "# Bagi dataset menjadi set pelatihan dan pengujian\n",
    "berkas_pelatihan, berkas_pengujian = train_test_split(berkas_citra, train_size=rasio_pelatihan, test_size=1-rasio_pelatihan)"
   ]
  },
  {
   "cell_type": "code",
   "execution_count": 17,
   "metadata": {},
   "outputs": [
    {
     "name": "stdout",
     "output_type": "stream",
     "text": [
      "Total citra: 237\n",
      "Citra pelatihan: 189\n",
      "Citra pengujian: 48\n"
     ]
    }
   ],
   "source": [
    "# Buat direktori untuk dataset pelatihan dan pengujian jika belum ada\n",
    "direktori_pelatihan = os.path.join(dataset_dir, 'pelatihan')\n",
    "direktori_pengujian = os.path.join(dataset_dir, 'pengujian')\n",
    "os.makedirs(direktori_pelatihan, exist_ok=True)\n",
    "os.makedirs(direktori_pengujian, exist_ok=True)\n",
    "\n",
    "# Pindahkan berkas ke direktori yang sesuai\n",
    "for berkas in berkas_pelatihan:\n",
    "    tujuan = os.path.join(direktori_pelatihan, os.path.basename(berkas))\n",
    "    os.rename(berkas, tujuan)\n",
    "\n",
    "for berkas in berkas_pengujian:\n",
    "    tujuan = os.path.join(direktori_pengujian, os.path.basename(berkas))\n",
    "    os.rename(berkas, tujuan)\n",
    "\n",
    "# Cetak jumlah citra dalam masing-masing dataset\n",
    "print(f\"Total citra: {len(berkas_citra)}\")\n",
    "print(f\"Citra pelatihan: {len(berkas_pelatihan)}\")\n",
    "print(f\"Citra pengujian: {len(berkas_pengujian)}\")"
   ]
  },
  {
   "cell_type": "markdown",
   "metadata": {},
   "source": [
    "### Preprocessing"
   ]
  },
  {
   "cell_type": "code",
   "execution_count": 19,
   "metadata": {},
   "outputs": [],
   "source": [
    "# Tentukan jalur ke direktori dataset yang telah dibagi menjadi pelatihan dan pengujian\n",
    "direktori_pelatihan = 'D:/UTY/Semester 7/Pengembangan Aplikasi AI/Pengenal-Citra-Nomor-Kendaraan/Dataset/K1/pengujian/'\n",
    "direktori_pengujian = 'D:/UTY/Semester 7/Pengembangan Aplikasi AI/Pengenal-Citra-Nomor-Kendaraan/Dataset/K1/pelatihan/'"
   ]
  }
 ],
 "metadata": {
  "kernelspec": {
   "display_name": "Python 3",
   "language": "python",
   "name": "python3"
  },
  "language_info": {
   "codemirror_mode": {
    "name": "ipython",
    "version": 3
   },
   "file_extension": ".py",
   "mimetype": "text/x-python",
   "name": "python",
   "nbconvert_exporter": "python",
   "pygments_lexer": "ipython3",
   "version": "3.9.2"
  }
 },
 "nbformat": 4,
 "nbformat_minor": 2
}
