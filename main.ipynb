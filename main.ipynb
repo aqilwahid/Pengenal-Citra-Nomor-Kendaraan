{
 "cells": [
  {
   "cell_type": "markdown",
   "metadata": {},
   "source": [
    "# Read Dataset"
   ]
  },
  {
   "cell_type": "code",
   "execution_count": 1,
   "metadata": {},
   "outputs": [],
   "source": [
    "# Import library yang diperlukan\n",
    "import os\n",
    "import random\n",
    "from sklearn.model_selection import train_test_split\n",
    "\n",
    "#ignore warning\n",
    "import warnings\n",
    "warnings.filterwarnings('ignore')"
   ]
  },
  {
   "cell_type": "code",
   "execution_count": 2,
   "metadata": {},
   "outputs": [
    {
     "name": "stdout",
     "output_type": "stream",
     "text": [
      "Total images: 237\n",
      "Training images: 189\n",
      "Testing images: 48\n"
     ]
    }
   ],
   "source": [
    "# Set the path to your dataset directory\n",
    "dataset_dir = 'D:/UTY/Semester 7/Pengembangan Aplikasi AI/Pengenal-Citra-Nomor-Kendaraan/Dataset/K1/'\n",
    "\n",
    "# List all the image files in the dataset directory\n",
    "image_files = [os.path.join(dataset_dir, file) for file in os.listdir(dataset_dir) if file.endswith('.JPG')]\n",
    "\n",
    "# Set a random seed for reproducibility\n",
    "random.seed(42)\n",
    "\n",
    "# Define the ratio of data for training and testing\n",
    "train_ratio = 0.8  # 80% for training, 20% for testing\n",
    "\n",
    "# Split the dataset into training and testing sets\n",
    "train_files, test_files = train_test_split(image_files, train_size=train_ratio, test_size=1-train_ratio)\n",
    "\n",
    "# Create directories for training and testing datasets if they don't exist\n",
    "train_dir = os.path.join(dataset_dir, 'train')\n",
    "test_dir = os.path.join(dataset_dir, 'test')\n",
    "os.makedirs(train_dir, exist_ok=True)\n",
    "os.makedirs(test_dir, exist_ok=True)\n",
    "\n",
    "# Move the files to their respective directories\n",
    "for file in train_files:\n",
    "    dest = os.path.join(train_dir, os.path.basename(file))\n",
    "    os.rename(file, dest)\n",
    "\n",
    "for file in test_files:\n",
    "    dest = os.path.join(test_dir, os.path.basename(file))\n",
    "    os.rename(file, dest)\n",
    "\n",
    "print(f\"Total images: {len(image_files)}\")\n",
    "print(f\"Training images: {len(train_files)}\")\n",
    "print(f\"Testing images: {len(test_files)}\")\n"
   ]
  },
  {
   "cell_type": "code",
   "execution_count": null,
   "metadata": {},
   "outputs": [],
   "source": []
  }
 ],
 "metadata": {
  "kernelspec": {
   "display_name": "Python 3",
   "language": "python",
   "name": "python3"
  },
  "language_info": {
   "codemirror_mode": {
    "name": "ipython",
    "version": 3
   },
   "file_extension": ".py",
   "mimetype": "text/x-python",
   "name": "python",
   "nbconvert_exporter": "python",
   "pygments_lexer": "ipython3",
   "version": "3.9.2"
  }
 },
 "nbformat": 4,
 "nbformat_minor": 2
}
