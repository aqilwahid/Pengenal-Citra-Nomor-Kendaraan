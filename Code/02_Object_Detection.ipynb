{
 "cells": [
  {
   "cell_type": "markdown",
   "metadata": {},
   "source": [
    "### Import Library"
   ]
  },
  {
   "cell_type": "code",
   "execution_count": 13,
   "metadata": {},
   "outputs": [],
   "source": [
    "import os\n",
    "import shutil\n",
    "import numpy as numpy\n",
    "import pandas as pd\n",
    "import cv2\n",
    "from sklearn.model_selection import train_test_split\n",
    "\n",
    "\n",
    "\n",
    "#ignore warning\n",
    "import warnings\n",
    "warnings.filterwarnings('ignore')"
   ]
  },
  {
   "cell_type": "markdown",
   "metadata": {},
   "source": [
    "### Direktori"
   ]
  },
  {
   "cell_type": "code",
   "execution_count": 14,
   "metadata": {},
   "outputs": [],
   "source": [
    "# Direktori dataset\n",
    "dataset_dir = 'D:/UTY/Semester 7/Pengembangan Aplikasi AI/Pengenal-Citra-Nomor-Kendaraan/Dataset/'\n",
    "\n",
    "# Membuat path join untuk direktori pelatihan\n",
    "train_dir = os.path.join(dataset_dir, 'pelatihan')\n",
    "\n",
    "# Membuat path join untuk direktori pengujian\n",
    "test_dir = os.path.join(dataset_dir, 'pengujian')"
   ]
  },
  {
   "cell_type": "markdown",
   "metadata": {},
   "source": [
    "### Split Data"
   ]
  },
  {
   "cell_type": "code",
   "execution_count": 15,
   "metadata": {},
   "outputs": [],
   "source": [
    "# # Membuat list dari semua nama file citra\n",
    "# image_files = [f for f in os.listdir(dataset_dir) if f.endswith('.JPG')]\n",
    "\n",
    "# # Cek apakah ada cukup sampel untuk dilakukan split\n",
    "# if len(image_files) == 0:\n",
    "#     raise ValueError(\"Tidak ada citra yang ditemukan untuk diproses.\")\n",
    "\n",
    "# # Split data hanya jika ada cukup sampel\n",
    "# if len(image_files) > 1:\n",
    "#     # Split data menjadi pelatihan dan pengujian\n",
    "#     train_files, test_files = train_test_split(image_files, test_size=0.2, random_state=42)\n",
    "\n",
    "#     # Membuat direktori pelatihan dan pengujian jika belum ada\n",
    "#     os.makedirs(train_dir, exist_ok=True)\n",
    "#     os.makedirs(test_dir, exist_ok=True)\n",
    "\n",
    "#     # Memindahkan file ke dalam direktori pelatihan\n",
    "#     for file in train_files:\n",
    "#         src_path = os.path.join(dataset_dir, file)\n",
    "#         dest_path = os.path.join(train_dir, file)\n",
    "#         shutil.copy(src_path, dest_path)\n",
    "\n",
    "#     # Memindahkan file ke dalam direktori pengujian\n",
    "#     for file in test_files:\n",
    "#         src_path = os.path.join(dataset_dir, file)\n",
    "#         dest_path = os.path.join(test_dir, file)\n",
    "#         shutil.copy(src_path, dest_path)\n",
    "# else:\n",
    "#     print(\"Tidak ada cukup citra untuk dilakukan split.\")\n"
   ]
  },
  {
   "cell_type": "code",
   "execution_count": 16,
   "metadata": {},
   "outputs": [
    {
     "name": "stdout",
     "output_type": "stream",
     "text": [
      "Jumlah citra pelatihan: 569\n",
      "Jumlah citra pengujian: 143\n"
     ]
    }
   ],
   "source": [
    "# Jumlah Data\n",
    "jumlah_citra_jpg = len([file for file in os.listdir(train_dir) if file.endswith(\".JPG\")])\n",
    "\n",
    "print(f\"Jumlah citra pelatihan: {jumlah_citra_jpg}\")\n",
    "print(f\"Jumlah citra pengujian: {len(os.listdir(test_dir))}\")"
   ]
  },
  {
   "cell_type": "markdown",
   "metadata": {},
   "source": [
    "# Object Detection"
   ]
  },
  {
   "cell_type": "code",
   "execution_count": 17,
   "metadata": {},
   "outputs": [
    {
     "data": {
      "text/html": [
       "<div>\n",
       "<style scoped>\n",
       "    .dataframe tbody tr th:only-of-type {\n",
       "        vertical-align: middle;\n",
       "    }\n",
       "\n",
       "    .dataframe tbody tr th {\n",
       "        vertical-align: top;\n",
       "    }\n",
       "\n",
       "    .dataframe thead th {\n",
       "        text-align: right;\n",
       "    }\n",
       "</style>\n",
       "<table border=\"1\" class=\"dataframe\">\n",
       "  <thead>\n",
       "    <tr style=\"text-align: right;\">\n",
       "      <th></th>\n",
       "      <th>filepath</th>\n",
       "      <th>xmin</th>\n",
       "      <th>xmax</th>\n",
       "      <th>ymin</th>\n",
       "      <th>ymax</th>\n",
       "    </tr>\n",
       "  </thead>\n",
       "  <tbody>\n",
       "    <tr>\n",
       "      <th>0</th>\n",
       "      <td>./pelatihan\\K1_A3772FV.xml</td>\n",
       "      <td>752</td>\n",
       "      <td>1961</td>\n",
       "      <td>1824</td>\n",
       "      <td>2424</td>\n",
       "    </tr>\n",
       "    <tr>\n",
       "      <th>1</th>\n",
       "      <td>./pelatihan\\K1_A4638EG.xml</td>\n",
       "      <td>813</td>\n",
       "      <td>1887</td>\n",
       "      <td>1615</td>\n",
       "      <td>2067</td>\n",
       "    </tr>\n",
       "    <tr>\n",
       "      <th>2</th>\n",
       "      <td>./pelatihan\\K1_AA2677GV.xml</td>\n",
       "      <td>774</td>\n",
       "      <td>1813</td>\n",
       "      <td>2459</td>\n",
       "      <td>2863</td>\n",
       "    </tr>\n",
       "    <tr>\n",
       "      <th>3</th>\n",
       "      <td>./pelatihan\\K1_AA2930VV.xml</td>\n",
       "      <td>709</td>\n",
       "      <td>2031</td>\n",
       "      <td>2389</td>\n",
       "      <td>2867</td>\n",
       "    </tr>\n",
       "    <tr>\n",
       "      <th>4</th>\n",
       "      <td>./pelatihan\\K1_AA2956JY.xml</td>\n",
       "      <td>874</td>\n",
       "      <td>1809</td>\n",
       "      <td>2189</td>\n",
       "      <td>2650</td>\n",
       "    </tr>\n",
       "  </tbody>\n",
       "</table>\n",
       "</div>"
      ],
      "text/plain": [
       "                      filepath  xmin  xmax  ymin  ymax\n",
       "0   ./pelatihan\\K1_A3772FV.xml   752  1961  1824  2424\n",
       "1   ./pelatihan\\K1_A4638EG.xml   813  1887  1615  2067\n",
       "2  ./pelatihan\\K1_AA2677GV.xml   774  1813  2459  2863\n",
       "3  ./pelatihan\\K1_AA2930VV.xml   709  2031  2389  2867\n",
       "4  ./pelatihan\\K1_AA2956JY.xml   874  1809  2189  2650"
      ]
     },
     "execution_count": 17,
     "metadata": {},
     "output_type": "execute_result"
    }
   ],
   "source": [
    "df = pd.read_csv('D:/UTY/Semester 7/Pengembangan Aplikasi AI/Pengenal-Citra-Nomor-Kendaraan/Dataset/pelatihan/label.csv')\n",
    "df.head()"
   ]
  },
  {
   "cell_type": "code",
   "execution_count": 18,
   "metadata": {},
   "outputs": [
    {
     "data": {
      "text/plain": [
       "'./pelatihan\\\\K1_A3772FV.xml'"
      ]
     },
     "execution_count": 18,
     "metadata": {},
     "output_type": "execute_result"
    }
   ],
   "source": [
    "import xml.etree.ElementTree as xet\n",
    "\n",
    "filename = df['filepath'][0]\n",
    "filename"
   ]
  },
  {
   "cell_type": "code",
   "execution_count": 19,
   "metadata": {},
   "outputs": [
    {
     "ename": "FileNotFoundError",
     "evalue": "[Errno 2] No such file or directory: './pelatihan\\\\K1_A3772FV.xml'",
     "output_type": "error",
     "traceback": [
      "\u001b[1;31m---------------------------------------------------------------------------\u001b[0m",
      "\u001b[1;31mFileNotFoundError\u001b[0m                         Traceback (most recent call last)",
      "Input \u001b[1;32mIn [19]\u001b[0m, in \u001b[0;36m<module>\u001b[1;34m\u001b[0m\n\u001b[1;32m----> 1\u001b[0m \u001b[43mxet\u001b[49m\u001b[38;5;241;43m.\u001b[39;49m\u001b[43mparse\u001b[49m\u001b[43m(\u001b[49m\u001b[43mfilename\u001b[49m\u001b[43m)\u001b[49m\u001b[38;5;241m.\u001b[39mgetroot()\u001b[38;5;241m.\u001b[39mfind(\u001b[38;5;124m'\u001b[39m\u001b[38;5;124mfilename\u001b[39m\u001b[38;5;124m'\u001b[39m)\u001b[38;5;241m.\u001b[39mtext\n",
      "File \u001b[1;32md:\\Python\\install\\lib\\xml\\etree\\ElementTree.py:1229\u001b[0m, in \u001b[0;36mparse\u001b[1;34m(source, parser)\u001b[0m\n\u001b[0;32m   1220\u001b[0m \u001b[38;5;250m\u001b[39m\u001b[38;5;124;03m\"\"\"Parse XML document into element tree.\u001b[39;00m\n\u001b[0;32m   1221\u001b[0m \n\u001b[0;32m   1222\u001b[0m \u001b[38;5;124;03m*source* is a filename or file object containing XML data,\u001b[39;00m\n\u001b[1;32m   (...)\u001b[0m\n\u001b[0;32m   1226\u001b[0m \n\u001b[0;32m   1227\u001b[0m \u001b[38;5;124;03m\"\"\"\u001b[39;00m\n\u001b[0;32m   1228\u001b[0m tree \u001b[38;5;241m=\u001b[39m ElementTree()\n\u001b[1;32m-> 1229\u001b[0m \u001b[43mtree\u001b[49m\u001b[38;5;241;43m.\u001b[39;49m\u001b[43mparse\u001b[49m\u001b[43m(\u001b[49m\u001b[43msource\u001b[49m\u001b[43m,\u001b[49m\u001b[43m \u001b[49m\u001b[43mparser\u001b[49m\u001b[43m)\u001b[49m\n\u001b[0;32m   1230\u001b[0m \u001b[38;5;28;01mreturn\u001b[39;00m tree\n",
      "File \u001b[1;32md:\\Python\\install\\lib\\xml\\etree\\ElementTree.py:569\u001b[0m, in \u001b[0;36mElementTree.parse\u001b[1;34m(self, source, parser)\u001b[0m\n\u001b[0;32m    567\u001b[0m close_source \u001b[38;5;241m=\u001b[39m \u001b[38;5;28;01mFalse\u001b[39;00m\n\u001b[0;32m    568\u001b[0m \u001b[38;5;28;01mif\u001b[39;00m \u001b[38;5;129;01mnot\u001b[39;00m \u001b[38;5;28mhasattr\u001b[39m(source, \u001b[38;5;124m\"\u001b[39m\u001b[38;5;124mread\u001b[39m\u001b[38;5;124m\"\u001b[39m):\n\u001b[1;32m--> 569\u001b[0m     source \u001b[38;5;241m=\u001b[39m \u001b[38;5;28;43mopen\u001b[39;49m\u001b[43m(\u001b[49m\u001b[43msource\u001b[49m\u001b[43m,\u001b[49m\u001b[43m \u001b[49m\u001b[38;5;124;43m\"\u001b[39;49m\u001b[38;5;124;43mrb\u001b[39;49m\u001b[38;5;124;43m\"\u001b[39;49m\u001b[43m)\u001b[49m\n\u001b[0;32m    570\u001b[0m     close_source \u001b[38;5;241m=\u001b[39m \u001b[38;5;28;01mTrue\u001b[39;00m\n\u001b[0;32m    571\u001b[0m \u001b[38;5;28;01mtry\u001b[39;00m:\n",
      "\u001b[1;31mFileNotFoundError\u001b[0m: [Errno 2] No such file or directory: './pelatihan\\\\K1_A3772FV.xml'"
     ]
    }
   ],
   "source": [
    "xet.parse(filename).getroot().find('filename').text"
   ]
  }
 ],
 "metadata": {
  "kernelspec": {
   "display_name": "Python 3",
   "language": "python",
   "name": "python3"
  },
  "language_info": {
   "codemirror_mode": {
    "name": "ipython",
    "version": 3
   },
   "file_extension": ".py",
   "mimetype": "text/x-python",
   "name": "python",
   "nbconvert_exporter": "python",
   "pygments_lexer": "ipython3",
   "version": "3.9.2"
  }
 },
 "nbformat": 4,
 "nbformat_minor": 2
}
