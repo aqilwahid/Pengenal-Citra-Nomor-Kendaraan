{
 "cells": [
  {
   "cell_type": "markdown",
   "metadata": {},
   "source": [
    "### Import Library"
   ]
  },
  {
   "cell_type": "code",
   "execution_count": 8,
   "metadata": {},
   "outputs": [],
   "source": [
    "import os\n",
    "import shutil\n",
    "import numpy as numpy\n",
    "import pandas as pd\n",
    "import cv2\n",
    "from sklearn.model_selection import train_test_split\n",
    "\n",
    "\n",
    "\n",
    "#ignore warning\n",
    "import warnings\n",
    "warnings.filterwarnings('ignore')"
   ]
  },
  {
   "cell_type": "markdown",
   "metadata": {},
   "source": [
    "### Direktori"
   ]
  },
  {
   "cell_type": "code",
   "execution_count": 9,
   "metadata": {},
   "outputs": [],
   "source": [
    "# Direktori dataset\n",
    "dataset_dir = 'D:/UTY/Semester 7/Pengembangan Aplikasi AI/Pengenal-Citra-Nomor-Kendaraan/Dataset/'\n",
    "\n",
    "# Membuat path join untuk direktori pelatihan\n",
    "train_dir = os.path.join(dataset_dir, 'pelatihan')\n",
    "\n",
    "# Membuat path join untuk direktori pengujian\n",
    "test_dir = os.path.join(dataset_dir, 'pengujian')"
   ]
  },
  {
   "cell_type": "markdown",
   "metadata": {},
   "source": [
    "### Split Data"
   ]
  },
  {
   "cell_type": "code",
   "execution_count": 10,
   "metadata": {},
   "outputs": [],
   "source": [
    "# # Membuat list dari semua nama file citra\n",
    "# image_files = [f for f in os.listdir(dataset_dir) if f.endswith('.JPG')]\n",
    "\n",
    "# # Cek apakah ada cukup sampel untuk dilakukan split\n",
    "# if len(image_files) == 0:\n",
    "#     raise ValueError(\"Tidak ada citra yang ditemukan untuk diproses.\")\n",
    "\n",
    "# # Split data hanya jika ada cukup sampel\n",
    "# if len(image_files) > 1:\n",
    "#     # Split data menjadi pelatihan dan pengujian\n",
    "#     train_files, test_files = train_test_split(image_files, test_size=0.2, random_state=42)\n",
    "\n",
    "#     # Membuat direktori pelatihan dan pengujian jika belum ada\n",
    "#     os.makedirs(train_dir, exist_ok=True)\n",
    "#     os.makedirs(test_dir, exist_ok=True)\n",
    "\n",
    "#     # Memindahkan file ke dalam direktori pelatihan\n",
    "#     for file in train_files:\n",
    "#         src_path = os.path.join(dataset_dir, file)\n",
    "#         dest_path = os.path.join(train_dir, file)\n",
    "#         shutil.copy(src_path, dest_path)\n",
    "\n",
    "#     # Memindahkan file ke dalam direktori pengujian\n",
    "#     for file in test_files:\n",
    "#         src_path = os.path.join(dataset_dir, file)\n",
    "#         dest_path = os.path.join(test_dir, file)\n",
    "#         shutil.copy(src_path, dest_path)\n",
    "# else:\n",
    "#     print(\"Tidak ada cukup citra untuk dilakukan split.\")\n"
   ]
  },
  {
   "cell_type": "code",
   "execution_count": 11,
   "metadata": {},
   "outputs": [
    {
     "name": "stdout",
     "output_type": "stream",
     "text": [
      "Jumlah citra pelatihan: 569\n",
      "Jumlah citra pengujian: 143\n"
     ]
    }
   ],
   "source": [
    "# Jumlah Data\n",
    "jumlah_citra_jpg = len([file for file in os.listdir(train_dir) if file.endswith(\".JPG\")])\n",
    "\n",
    "print(f\"Jumlah citra pelatihan: {jumlah_citra_jpg}\")\n",
    "print(f\"Jumlah citra pengujian: {len(os.listdir(test_dir))}\")"
   ]
  },
  {
   "cell_type": "markdown",
   "metadata": {},
   "source": [
    "# Object Detection"
   ]
  },
  {
   "cell_type": "code",
   "execution_count": 17,
   "metadata": {},
   "outputs": [
    {
     "data": {
      "text/html": [
       "<div>\n",
       "<style scoped>\n",
       "    .dataframe tbody tr th:only-of-type {\n",
       "        vertical-align: middle;\n",
       "    }\n",
       "\n",
       "    .dataframe tbody tr th {\n",
       "        vertical-align: top;\n",
       "    }\n",
       "\n",
       "    .dataframe thead th {\n",
       "        text-align: right;\n",
       "    }\n",
       "</style>\n",
       "<table border=\"1\" class=\"dataframe\">\n",
       "  <thead>\n",
       "    <tr style=\"text-align: right;\">\n",
       "      <th></th>\n",
       "      <th>filepath</th>\n",
       "      <th>xmin</th>\n",
       "      <th>xmax</th>\n",
       "      <th>ymin</th>\n",
       "      <th>ymax</th>\n",
       "    </tr>\n",
       "  </thead>\n",
       "  <tbody>\n",
       "    <tr>\n",
       "      <th>0</th>\n",
       "      <td>./pelatihan\\K1_A3772FV.xml</td>\n",
       "      <td>752</td>\n",
       "      <td>1961</td>\n",
       "      <td>1824</td>\n",
       "      <td>2424</td>\n",
       "    </tr>\n",
       "    <tr>\n",
       "      <th>1</th>\n",
       "      <td>./pelatihan\\K1_A4638EG.xml</td>\n",
       "      <td>813</td>\n",
       "      <td>1887</td>\n",
       "      <td>1615</td>\n",
       "      <td>2067</td>\n",
       "    </tr>\n",
       "    <tr>\n",
       "      <th>2</th>\n",
       "      <td>./pelatihan\\K1_AA2677GV.xml</td>\n",
       "      <td>774</td>\n",
       "      <td>1813</td>\n",
       "      <td>2459</td>\n",
       "      <td>2863</td>\n",
       "    </tr>\n",
       "    <tr>\n",
       "      <th>3</th>\n",
       "      <td>./pelatihan\\K1_AA2930VV.xml</td>\n",
       "      <td>709</td>\n",
       "      <td>2031</td>\n",
       "      <td>2389</td>\n",
       "      <td>2867</td>\n",
       "    </tr>\n",
       "    <tr>\n",
       "      <th>4</th>\n",
       "      <td>./pelatihan\\K1_AA2956JY.xml</td>\n",
       "      <td>874</td>\n",
       "      <td>1809</td>\n",
       "      <td>2189</td>\n",
       "      <td>2650</td>\n",
       "    </tr>\n",
       "  </tbody>\n",
       "</table>\n",
       "</div>"
      ],
      "text/plain": [
       "                      filepath  xmin  xmax  ymin  ymax\n",
       "0   ./pelatihan\\K1_A3772FV.xml   752  1961  1824  2424\n",
       "1   ./pelatihan\\K1_A4638EG.xml   813  1887  1615  2067\n",
       "2  ./pelatihan\\K1_AA2677GV.xml   774  1813  2459  2863\n",
       "3  ./pelatihan\\K1_AA2930VV.xml   709  2031  2389  2867\n",
       "4  ./pelatihan\\K1_AA2956JY.xml   874  1809  2189  2650"
      ]
     },
     "execution_count": 17,
     "metadata": {},
     "output_type": "execute_result"
    }
   ],
   "source": [
    "df = pd.read_csv('D:/UTY/Semester 7/Pengembangan Aplikasi AI/Pengenal-Citra-Nomor-Kendaraan/Dataset/pelatihan/label.csv')\n",
    "df.head()"
   ]
  },
  {
   "cell_type": "code",
   "execution_count": 18,
   "metadata": {},
   "outputs": [
    {
     "data": {
      "text/plain": [
       "'./pelatihan\\\\K1_A3772FV.xml'"
      ]
     },
     "execution_count": 18,
     "metadata": {},
     "output_type": "execute_result"
    }
   ],
   "source": [
    "import xml.etree.ElementTree as xet\n",
    "\n",
    "filename = df['filepath'][0]\n",
    "filename"
   ]
  },
  {
   "cell_type": "code",
   "execution_count": null,
   "metadata": {},
   "outputs": [],
   "source": [
    "xet.parse(filename).getroot().find('filename').text"
   ]
  }
 ],
 "metadata": {
  "kernelspec": {
   "display_name": "Python 3",
   "language": "python",
   "name": "python3"
  },
  "language_info": {
   "codemirror_mode": {
    "name": "ipython",
    "version": 3
   },
   "file_extension": ".py",
   "mimetype": "text/x-python",
   "name": "python",
   "nbconvert_exporter": "python",
   "pygments_lexer": "ipython3",
   "version": "3.9.2"
  }
 },
 "nbformat": 4,
 "nbformat_minor": 2
}
