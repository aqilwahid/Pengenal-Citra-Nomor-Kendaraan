{
 "cells": [
  {
   "cell_type": "markdown",
   "metadata": {},
   "source": [
    "### Import Library"
   ]
  },
  {
   "cell_type": "code",
   "execution_count": 6,
   "metadata": {},
   "outputs": [],
   "source": [
    "import os\n",
    "import shutil\n",
    "from sklearn.model_selection import train_test_split\n",
    "\n",
    "\n",
    "\n",
    "#ignore warning\n",
    "import warnings\n",
    "warnings.filterwarnings('ignore')"
   ]
  },
  {
   "cell_type": "markdown",
   "metadata": {},
   "source": [
    "### Direktori"
   ]
  },
  {
   "cell_type": "code",
   "execution_count": 7,
   "metadata": {},
   "outputs": [],
   "source": [
    "# Direktori dataset\n",
    "dataset_dir = 'D:/UTY/Semester 7/Pengembangan Aplikasi AI/Pengenal-Citra-Nomor-Kendaraan/Dataset/'\n",
    "\n",
    "# Membuat path join untuk direktori pelatihan\n",
    "train_dir = os.path.join(dataset_dir, 'pelatihan')\n",
    "\n",
    "# Membuat path join untuk direktori pengujian\n",
    "test_dir = os.path.join(dataset_dir, 'pengujian')"
   ]
  },
  {
   "cell_type": "markdown",
   "metadata": {},
   "source": [
    "### Split Data"
   ]
  },
  {
   "cell_type": "code",
   "execution_count": 8,
   "metadata": {},
   "outputs": [],
   "source": [
    "# # Membuat list dari semua nama file citra\n",
    "# image_files = [f for f in os.listdir(dataset_dir) if f.endswith('.JPG')]\n",
    "\n",
    "# # Cek apakah ada cukup sampel untuk dilakukan split\n",
    "# if len(image_files) == 0:\n",
    "#     raise ValueError(\"Tidak ada citra yang ditemukan untuk diproses.\")\n",
    "\n",
    "# # Split data hanya jika ada cukup sampel\n",
    "# if len(image_files) > 1:\n",
    "#     # Split data menjadi pelatihan dan pengujian\n",
    "#     train_files, test_files = train_test_split(image_files, test_size=0.2, random_state=42)\n",
    "\n",
    "#     # Membuat direktori pelatihan dan pengujian jika belum ada\n",
    "#     os.makedirs(train_dir, exist_ok=True)\n",
    "#     os.makedirs(test_dir, exist_ok=True)\n",
    "\n",
    "#     # Memindahkan file ke dalam direktori pelatihan\n",
    "#     for file in train_files:\n",
    "#         src_path = os.path.join(dataset_dir, file)\n",
    "#         dest_path = os.path.join(train_dir, file)\n",
    "#         shutil.copy(src_path, dest_path)\n",
    "\n",
    "#     # Memindahkan file ke dalam direktori pengujian\n",
    "#     for file in test_files:\n",
    "#         src_path = os.path.join(dataset_dir, file)\n",
    "#         dest_path = os.path.join(test_dir, file)\n",
    "#         shutil.copy(src_path, dest_path)\n",
    "# else:\n",
    "#     print(\"Tidak ada cukup citra untuk dilakukan split.\")\n"
   ]
  },
  {
   "cell_type": "code",
   "execution_count": 9,
   "metadata": {},
   "outputs": [
    {
     "name": "stdout",
     "output_type": "stream",
     "text": [
      "Jumlah citra pelatihan: 569\n",
      "Jumlah citra pengujian: 143\n"
     ]
    }
   ],
   "source": [
    "print(f\"Jumlah citra pelatihan: {len(os.listdir(train_dir))}\")\n",
    "print(f\"Jumlah citra pengujian: {len(os.listdir(test_dir))}\")"
   ]
  }
 ],
 "metadata": {
  "kernelspec": {
   "display_name": "Python 3",
   "language": "python",
   "name": "python3"
  },
  "language_info": {
   "codemirror_mode": {
    "name": "ipython",
    "version": 3
   },
   "file_extension": ".py",
   "mimetype": "text/x-python",
   "name": "python",
   "nbconvert_exporter": "python",
   "pygments_lexer": "ipython3",
   "version": "3.9.2"
  }
 },
 "nbformat": 4,
 "nbformat_minor": 2
}
